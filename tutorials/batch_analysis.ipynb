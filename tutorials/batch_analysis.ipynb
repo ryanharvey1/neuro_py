{
 "cells": [
  {
   "cell_type": "markdown",
   "metadata": {},
   "source": [
    "[![Colab](https://colab.research.google.com/assets/colab-badge.svg)](https://colab.research.google.com/github/ryanharvey1/neuro_py/blob/main/tutorials/batch_analysis.ipynb)\n",
    "&nbsp;\n",
    "[![Kaggle](https://kaggle.com/static/images/open-in-kaggle.svg)](https://kaggle.com/kernels/welcome?src=https://raw.githubusercontent.com/ryanharvey1/neuro_py/main/tutorials/batch_analysis.ipynb)\n",
    "&nbsp;\n",
    "[![Binder](https://mybinder.org/badge_logo.svg)](https://mybinder.org/v2/gh/ryanharvey1/neuro_py/main?labpath=tutorials%2Fbatch_analysis.ipynb)"
   ]
  },
  {
   "cell_type": "markdown",
   "metadata": {},
   "source": [
    "# Batch Analysis\n",
    "\n",
    "---"
   ]
  },
  {
   "cell_type": "markdown",
   "metadata": {},
   "source": [
    "## Setup"
   ]
  },
  {
   "cell_type": "code",
   "execution_count": 1,
   "metadata": {},
   "outputs": [],
   "source": [
    "%reload_ext autoreload\n",
    "%autoreload 2\n",
    "\n",
    "import numpy as np\n",
    "import pandas as pd\n",
    "\n",
    "from neuro_py.process import batch_analysis"
   ]
  },
  {
   "cell_type": "markdown",
   "metadata": {},
   "source": [
    "## Section 1: Define the analysis\n",
    "\n",
    "Here, I'm defining the analysis in the notebook, but in a real project, you would define it in a separate `.py` file and import it here."
   ]
  },
  {
   "cell_type": "code",
   "execution_count": 2,
   "metadata": {},
   "outputs": [],
   "source": [
    "def toy_analysis(basepath, parameter_1=1, parameter_2=2):\n",
    "    results = pd.DataFrame()\n",
    "    results[\"basepath\"] = [basepath]\n",
    "    results[\"parameter_1\"] = parameter_1\n",
    "    results[\"parameter_2\"] = parameter_2\n",
    "    results[\"random_number\"] = np.random.randint(0, 100)\n",
    "    return results"
   ]
  },
  {
   "cell_type": "markdown",
   "metadata": {},
   "source": [
    "For your project, you will have a `.csv` file with the `basepaths` you want to analyze. Here, I'm creating a `DataFrame` with the `basepaths` for the purpose of this notebook."
   ]
  },
  {
   "cell_type": "code",
   "execution_count": 3,
   "metadata": {},
   "outputs": [],
   "source": [
    "sessions = pd.DataFrame(\n",
    "    dict(\n",
    "        basepath=[\n",
    "            r\"U:\\data\\hpc_ctx_project\\HP01\\day_1_20240227\",\n",
    "            r\"U:\\data\\hpc_ctx_project\\HP01\\day_2_20240228\",\n",
    "            r\"U:\\data\\hpc_ctx_project\\HP01\\day_3_20240229\",\n",
    "        ]\n",
    "    )\n",
    ")"
   ]
  },
  {
   "cell_type": "markdown",
   "metadata": {},
   "source": [
    "You will need to define the path where you want to save the results of your analysis.\n",
    "\n",
    "It's useful to nest the analysis version in a subfolder (`toy_analysis\\toy_analysis_v1`) to keep track of the different versions of your analysis. "
   ]
  },
  {
   "cell_type": "code",
   "execution_count": 4,
   "metadata": {},
   "outputs": [],
   "source": [
    "save_path = r\"Z:\\home\\ryanh\\projects\\hpc_ctx\\toy_analysis\\toy_analysis_v1\""
   ]
  },
  {
   "cell_type": "markdown",
   "metadata": {},
   "source": [
    "## Section 2: Run the analysis\n",
    "\n",
    "**Finally, you can run your analysis in batch mode. This will loop through the `basepaths` and save the results in the specified folder.**\n",
    "\n",
    "The `batch_analysis` function is a general function that you can use for any analysis. You just need to pass the function you want to run, the `basepaths` you want to analyze, and the save path.\n",
    "\n",
    "If your analysis fails, running again will start from where it left off.\n",
    "\n",
    "There is a `parallel` option that you can set to `True` if you want to run the analysis in parallel. This will speed up the analysis if you have multiple cores."
   ]
  },
  {
   "cell_type": "code",
   "execution_count": 5,
   "metadata": {},
   "outputs": [
    {
     "name": "stderr",
     "output_type": "stream",
     "text": [
      "100%|██████████| 3/3 [00:00<00:00, 759.52it/s]"
     ]
    },
    {
     "name": "stdout",
     "output_type": "stream",
     "text": [
      "U:\\data\\hpc_ctx_project\\HP01\\day_1_20240227\n",
      "U:\\data\\hpc_ctx_project\\HP01\\day_2_20240228\n",
      "U:\\data\\hpc_ctx_project\\HP01\\day_3_20240229\n"
     ]
    },
    {
     "name": "stderr",
     "output_type": "stream",
     "text": [
      "\n"
     ]
    }
   ],
   "source": [
    "batch_analysis.run(\n",
    "    sessions,\n",
    "    save_path,\n",
    "    toy_analysis,\n",
    "    parallel=False,\n",
    "    verbose=True,\n",
    ")"
   ]
  },
  {
   "cell_type": "markdown",
   "metadata": {},
   "source": [
    "## Section 3: Load the results\n",
    "\n",
    "There is a built in loader that concatenates the results of the analysis into a single `DataFrame`."
   ]
  },
  {
   "cell_type": "code",
   "execution_count": 6,
   "metadata": {},
   "outputs": [
    {
     "data": {
      "application/vnd.microsoft.datawrangler.viewer.v0+json": {
       "columns": [
        {
         "name": "index",
         "rawType": "int64",
         "type": "integer"
        },
        {
         "name": "basepath",
         "rawType": "object",
         "type": "string"
        },
        {
         "name": "paramater_1",
         "rawType": "int64",
         "type": "integer"
        },
        {
         "name": "paramater_2",
         "rawType": "int64",
         "type": "integer"
        },
        {
         "name": "random_number",
         "rawType": "int64",
         "type": "integer"
        }
       ],
       "ref": "2989cbc6-f8e1-40c8-bae6-02c20f79584f",
       "rows": [
        [
         "0",
         "U:\\data\\hpc_ctx_project\\HP01\\day_1_20240227",
         "1",
         "2",
         "34"
        ],
        [
         "1",
         "U:\\data\\hpc_ctx_project\\HP01\\day_2_20240228",
         "1",
         "2",
         "30"
        ],
        [
         "2",
         "U:\\data\\hpc_ctx_project\\HP01\\day_3_20240229",
         "1",
         "2",
         "66"
        ]
       ],
       "shape": {
        "columns": 4,
        "rows": 3
       }
      },
      "text/html": [
       "<div>\n",
       "<style scoped>\n",
       "    .dataframe tbody tr th:only-of-type {\n",
       "        vertical-align: middle;\n",
       "    }\n",
       "\n",
       "    .dataframe tbody tr th {\n",
       "        vertical-align: top;\n",
       "    }\n",
       "\n",
       "    .dataframe thead th {\n",
       "        text-align: right;\n",
       "    }\n",
       "</style>\n",
       "<table border=\"1\" class=\"dataframe\">\n",
       "  <thead>\n",
       "    <tr style=\"text-align: right;\">\n",
       "      <th></th>\n",
       "      <th>basepath</th>\n",
       "      <th>paramater_1</th>\n",
       "      <th>paramater_2</th>\n",
       "      <th>random_number</th>\n",
       "    </tr>\n",
       "  </thead>\n",
       "  <tbody>\n",
       "    <tr>\n",
       "      <th>0</th>\n",
       "      <td>U:\\data\\hpc_ctx_project\\HP01\\day_1_20240227</td>\n",
       "      <td>1</td>\n",
       "      <td>2</td>\n",
       "      <td>34</td>\n",
       "    </tr>\n",
       "    <tr>\n",
       "      <th>1</th>\n",
       "      <td>U:\\data\\hpc_ctx_project\\HP01\\day_2_20240228</td>\n",
       "      <td>1</td>\n",
       "      <td>2</td>\n",
       "      <td>30</td>\n",
       "    </tr>\n",
       "    <tr>\n",
       "      <th>2</th>\n",
       "      <td>U:\\data\\hpc_ctx_project\\HP01\\day_3_20240229</td>\n",
       "      <td>1</td>\n",
       "      <td>2</td>\n",
       "      <td>66</td>\n",
       "    </tr>\n",
       "  </tbody>\n",
       "</table>\n",
       "</div>"
      ],
      "text/plain": [
       "                                      basepath  paramater_1  paramater_2  \\\n",
       "0  U:\\data\\hpc_ctx_project\\HP01\\day_1_20240227            1            2   \n",
       "1  U:\\data\\hpc_ctx_project\\HP01\\day_2_20240228            1            2   \n",
       "2  U:\\data\\hpc_ctx_project\\HP01\\day_3_20240229            1            2   \n",
       "\n",
       "   random_number  \n",
       "0             34  \n",
       "1             30  \n",
       "2             66  "
      ]
     },
     "execution_count": 6,
     "metadata": {},
     "output_type": "execute_result"
    }
   ],
   "source": [
    "results = batch_analysis.load_results(save_path)\n",
    "results"
   ]
  },
  {
   "cell_type": "markdown",
   "metadata": {},
   "source": [
    "## Bonus: More complicated results\n",
    "\n",
    "Your results won't always fit nicely into a single `DataFrame`. Sometimes you will have multiple data types you need to save.\n",
    "\n",
    "For example, you might have values for each cell in a `DataFrame` and also PSTHs for each cell. Your analysis will store both in a dictionary and you will construct a custom loader in your analysis."
   ]
  },
  {
   "cell_type": "markdown",
   "metadata": {},
   "source": [
    "### Define the analysis"
   ]
  },
  {
   "cell_type": "code",
   "execution_count": 7,
   "metadata": {},
   "outputs": [],
   "source": [
    "import glob\n",
    "import os\n",
    "import pickle\n",
    "\n",
    "\n",
    "def toy_analysis_2(basepath, paramater_1=1, paramater_2=2):\n",
    "    results_df = pd.DataFrame()\n",
    "    results_df[\"basepath\"] = [basepath]\n",
    "    results_df[\"paramater_1\"] = paramater_1\n",
    "    results_df[\"paramater_2\"] = paramater_2\n",
    "    results_df[\"random_number\"] = np.random.randint(0, 100)\n",
    "\n",
    "    window_starttime, window_stoptime = [-1, 1]\n",
    "    window_bins = int(np.ceil(((window_stoptime - window_starttime) * 1000)))\n",
    "    time_lags = np.linspace(window_starttime, window_stoptime, window_bins)\n",
    "    psths = pd.DataFrame(\n",
    "        index=time_lags,\n",
    "        columns=np.arange(1),\n",
    "    )\n",
    "    psths[:] = np.random.rand(window_bins, 1)\n",
    "\n",
    "    results = {\n",
    "        \"results_df\": results_df,\n",
    "        \"psth\": psths,\n",
    "    }\n",
    "    return results\n",
    "\n",
    "\n",
    "# custom loader\n",
    "def load_results(save_path, verbose=False):\n",
    "    # check if folder exists\n",
    "    if not os.path.exists(save_path):\n",
    "        raise ValueError(f\"folder {save_path} does not exist\")\n",
    "\n",
    "    # get all the sessions\n",
    "    sessions = glob.glob(save_path + os.sep + \"*.pkl\")\n",
    "\n",
    "    results_df = []\n",
    "    psths = []\n",
    "\n",
    "    # iterate over the sessions\n",
    "    for session in sessions:\n",
    "        if verbose:\n",
    "            print(session)\n",
    "\n",
    "        # load the session\n",
    "        with open(session, \"rb\") as f:\n",
    "            results_ = pickle.load(f)\n",
    "\n",
    "        if results_ is None:\n",
    "            continue\n",
    "        results_df.append(results_[\"results_df\"])\n",
    "        psths.append(results_[\"psth\"])\n",
    "\n",
    "    results_df = pd.concat(results_df, axis=0, ignore_index=True)\n",
    "    psths = pd.concat(psths, axis=1, ignore_index=True)\n",
    "\n",
    "    return results_df, psths"
   ]
  },
  {
   "cell_type": "markdown",
   "metadata": {},
   "source": [
    "### Run the analysis"
   ]
  },
  {
   "cell_type": "code",
   "execution_count": 8,
   "metadata": {},
   "outputs": [
    {
     "name": "stderr",
     "output_type": "stream",
     "text": [
      "100%|██████████| 3/3 [00:00<00:00, 840.94it/s]"
     ]
    },
    {
     "name": "stdout",
     "output_type": "stream",
     "text": [
      "U:\\data\\hpc_ctx_project\\HP01\\day_1_20240227\n",
      "U:\\data\\hpc_ctx_project\\HP01\\day_2_20240228\n",
      "U:\\data\\hpc_ctx_project\\HP01\\day_3_20240229\n"
     ]
    },
    {
     "name": "stderr",
     "output_type": "stream",
     "text": [
      "\n"
     ]
    }
   ],
   "source": [
    "save_path = r\"Z:\\home\\ryanh\\projects\\hpc_ctx\\toy_analysis\\toy_analysis_v2\"\n",
    "\n",
    "batch_analysis.run(\n",
    "    sessions,\n",
    "    save_path,\n",
    "    toy_analysis_2,\n",
    "    parallel=False,\n",
    "    verbose=True,\n",
    ")"
   ]
  },
  {
   "cell_type": "markdown",
   "metadata": {},
   "source": [
    "### Load the results"
   ]
  },
  {
   "cell_type": "code",
   "execution_count": 9,
   "metadata": {},
   "outputs": [
    {
     "data": {
      "application/vnd.microsoft.datawrangler.viewer.v0+json": {
       "columns": [
        {
         "name": "index",
         "rawType": "int64",
         "type": "integer"
        },
        {
         "name": "basepath",
         "rawType": "object",
         "type": "string"
        },
        {
         "name": "paramater_1",
         "rawType": "int64",
         "type": "integer"
        },
        {
         "name": "paramater_2",
         "rawType": "int64",
         "type": "integer"
        },
        {
         "name": "random_number",
         "rawType": "int64",
         "type": "integer"
        }
       ],
       "ref": "92482555-985d-4dc1-a0db-1ff7e22600e9",
       "rows": [
        [
         "0",
         "U:\\data\\hpc_ctx_project\\HP01\\day_1_20240227",
         "1",
         "2",
         "56"
        ],
        [
         "1",
         "U:\\data\\hpc_ctx_project\\HP01\\day_2_20240228",
         "1",
         "2",
         "32"
        ],
        [
         "2",
         "U:\\data\\hpc_ctx_project\\HP01\\day_3_20240229",
         "1",
         "2",
         "56"
        ]
       ],
       "shape": {
        "columns": 4,
        "rows": 3
       }
      },
      "text/html": [
       "<div>\n",
       "<style scoped>\n",
       "    .dataframe tbody tr th:only-of-type {\n",
       "        vertical-align: middle;\n",
       "    }\n",
       "\n",
       "    .dataframe tbody tr th {\n",
       "        vertical-align: top;\n",
       "    }\n",
       "\n",
       "    .dataframe thead th {\n",
       "        text-align: right;\n",
       "    }\n",
       "</style>\n",
       "<table border=\"1\" class=\"dataframe\">\n",
       "  <thead>\n",
       "    <tr style=\"text-align: right;\">\n",
       "      <th></th>\n",
       "      <th>basepath</th>\n",
       "      <th>paramater_1</th>\n",
       "      <th>paramater_2</th>\n",
       "      <th>random_number</th>\n",
       "    </tr>\n",
       "  </thead>\n",
       "  <tbody>\n",
       "    <tr>\n",
       "      <th>0</th>\n",
       "      <td>U:\\data\\hpc_ctx_project\\HP01\\day_1_20240227</td>\n",
       "      <td>1</td>\n",
       "      <td>2</td>\n",
       "      <td>56</td>\n",
       "    </tr>\n",
       "    <tr>\n",
       "      <th>1</th>\n",
       "      <td>U:\\data\\hpc_ctx_project\\HP01\\day_2_20240228</td>\n",
       "      <td>1</td>\n",
       "      <td>2</td>\n",
       "      <td>32</td>\n",
       "    </tr>\n",
       "    <tr>\n",
       "      <th>2</th>\n",
       "      <td>U:\\data\\hpc_ctx_project\\HP01\\day_3_20240229</td>\n",
       "      <td>1</td>\n",
       "      <td>2</td>\n",
       "      <td>56</td>\n",
       "    </tr>\n",
       "  </tbody>\n",
       "</table>\n",
       "</div>"
      ],
      "text/plain": [
       "                                      basepath  paramater_1  paramater_2  \\\n",
       "0  U:\\data\\hpc_ctx_project\\HP01\\day_1_20240227            1            2   \n",
       "1  U:\\data\\hpc_ctx_project\\HP01\\day_2_20240228            1            2   \n",
       "2  U:\\data\\hpc_ctx_project\\HP01\\day_3_20240229            1            2   \n",
       "\n",
       "   random_number  \n",
       "0             56  \n",
       "1             32  \n",
       "2             56  "
      ]
     },
     "metadata": {},
     "output_type": "display_data"
    },
    {
     "data": {
      "application/vnd.microsoft.datawrangler.viewer.v0+json": {
       "columns": [
        {
         "name": "index",
         "rawType": "float64",
         "type": "float"
        },
        {
         "name": "0",
         "rawType": "object",
         "type": "unknown"
        },
        {
         "name": "1",
         "rawType": "object",
         "type": "unknown"
        },
        {
         "name": "2",
         "rawType": "object",
         "type": "unknown"
        }
       ],
       "ref": "9d0201f8-1166-4821-959d-bdc3df9ce779",
       "rows": [
        [
         "-1.0",
         "0.19068537395247187",
         "0.49055296333685117",
         "0.24895756061433172"
        ],
        [
         "-0.9989994997498749",
         "0.07899911219257572",
         "0.6890629156125216",
         "0.40577001818185987"
        ],
        [
         "-0.9979989994997499",
         "0.09484695296408141",
         "0.7887474207811875",
         "0.9660841972372973"
        ],
        [
         "-0.9969984992496248",
         "0.2876162169141252",
         "0.8045121116654506",
         "0.8463089282983837"
        ],
        [
         "-0.9959979989994997",
         "0.7238070320118241",
         "0.9963734222517757",
         "0.8500865686238517"
        ],
        [
         "-0.9949974987493747",
         "0.9439275668071407",
         "0.09825330498961315",
         "0.8678137847352094"
        ],
        [
         "-0.9939969984992496",
         "0.7943059633753439",
         "0.5797103500557842",
         "0.5618999211946492"
        ],
        [
         "-0.9929964982491246",
         "0.3935166503603198",
         "0.47279004473452035",
         "0.7772681030863092"
        ],
        [
         "-0.9919959979989995",
         "0.30333024152681065",
         "0.07883562220276141",
         "0.10053489143994565"
        ],
        [
         "-0.9909954977488744",
         "0.9764959728972467",
         "0.22870161057483118",
         "0.9370342463666529"
        ],
        [
         "-0.9899949974987494",
         "0.23407481275555198",
         "0.9042790172211755",
         "0.06145123404947106"
        ],
        [
         "-0.9889944972486243",
         "0.9783514138980747",
         "0.7054237948286185",
         "0.2535525960364384"
        ],
        [
         "-0.9879939969984992",
         "0.250860972829158",
         "0.5531225956936303",
         "0.5803654695647295"
        ],
        [
         "-0.9869934967483742",
         "0.09133634491386633",
         "0.8535716687745007",
         "0.07226816194312746"
        ],
        [
         "-0.9859929964982491",
         "0.14799337293674963",
         "0.8048318478742575",
         "0.35930414019974943"
        ],
        [
         "-0.984992496248124",
         "0.7388626681951959",
         "0.7073616135725251",
         "0.061577391245106416"
        ],
        [
         "-0.983991995997999",
         "0.7973762395540734",
         "0.3736619305928315",
         "0.8327556105467058"
        ],
        [
         "-0.9829914957478739",
         "0.39278745023251105",
         "0.6862582824885763",
         "0.889351210978429"
        ],
        [
         "-0.9819909954977488",
         "0.400712184555837",
         "0.8855484237689957",
         "0.7355860740811243"
        ],
        [
         "-0.9809904952476238",
         "0.7168355002702395",
         "0.084361484616164",
         "0.4260243517596305"
        ],
        [
         "-0.9799899949974987",
         "0.47632520493733677",
         "0.6743285814110198",
         "0.9199603818203927"
        ],
        [
         "-0.9789894947473737",
         "0.05303516648139772",
         "0.7212484783271186",
         "0.8714001977800201"
        ],
        [
         "-0.9779889944972486",
         "0.16157257242503387",
         "0.4451737898909778",
         "0.6199103212243876"
        ],
        [
         "-0.9769884942471235",
         "0.4914045974286865",
         "0.4778332273965161",
         "0.7208824078281816"
        ],
        [
         "-0.9759879939969985",
         "0.6467246172095702",
         "0.7722790163784238",
         "0.1461663816029679"
        ],
        [
         "-0.9749874937468734",
         "0.9326578126635309",
         "0.06798862477771439",
         "0.18894675532469918"
        ],
        [
         "-0.9739869934967483",
         "0.9398171427656262",
         "0.3582252737641224",
         "0.7773007548379974"
        ],
        [
         "-0.9729864932466233",
         "0.21416578630706384",
         "0.6877843072469467",
         "0.5274536376998544"
        ],
        [
         "-0.9719859929964982",
         "0.09797488865793647",
         "0.0059188371430878295",
         "0.9965276181586818"
        ],
        [
         "-0.9709854927463731",
         "0.3112434877014102",
         "0.04079833097360919",
         "0.49663022120518896"
        ],
        [
         "-0.9699849924962481",
         "0.22242436672144517",
         "0.26321946753587355",
         "0.32610157770538695"
        ],
        [
         "-0.968984492246123",
         "0.05031186109162422",
         "0.5764028080880436",
         "0.7079684925533193"
        ],
        [
         "-0.967983991995998",
         "0.7194286311543645",
         "0.9291870057849498",
         "0.0014916063404916136"
        ],
        [
         "-0.966983491745873",
         "0.5550924338070219",
         "0.8781809271859805",
         "0.5463389434214657"
        ],
        [
         "-0.9659829914957478",
         "0.9965096433393906",
         "0.1942479869584952",
         "0.8441224896909245"
        ],
        [
         "-0.9649824912456229",
         "0.9526569273449033",
         "0.8733702627646054",
         "0.7826192388167597"
        ],
        [
         "-0.9639819909954978",
         "0.7996275846728664",
         "0.3874997019106985",
         "0.8217672315308535"
        ],
        [
         "-0.9629814907453726",
         "0.5143972053310869",
         "0.4698439631330492",
         "0.4402876770901074"
        ],
        [
         "-0.9619809904952477",
         "0.46388019861394303",
         "0.6829417272735561",
         "0.2785808527359144"
        ],
        [
         "-0.9609804902451226",
         "0.6836763882373271",
         "0.9785300841058883",
         "0.49890649495214134"
        ],
        [
         "-0.9599799899949975",
         "0.574873033235135",
         "0.7847383571683947",
         "0.7246995357293501"
        ],
        [
         "-0.9589794897448725",
         "0.9412249394504405",
         "0.22243390705405564",
         "0.2353706013006891"
        ],
        [
         "-0.9579789894947474",
         "0.7089771210194677",
         "0.7386047226802225",
         "0.9187544448350997"
        ],
        [
         "-0.9569784892446224",
         "0.9880601199417847",
         "0.6692131638104767",
         "0.030863331295836294"
        ],
        [
         "-0.9559779889944973",
         "0.37387078388196293",
         "0.9138587568664679",
         "0.1838754236170489"
        ],
        [
         "-0.9549774887443722",
         "0.9192452953946391",
         "0.2779790992792106",
         "0.2671638970328081"
        ],
        [
         "-0.9539769884942472",
         "0.5285828781936146",
         "0.6577685599479555",
         "0.396086514357866"
        ],
        [
         "-0.9529764882441221",
         "0.8756313653798351",
         "0.11269471247329943",
         "0.5957391599382506"
        ],
        [
         "-0.951975987993997",
         "0.006431057231194859",
         "0.9497888715977398",
         "0.7671324345835805"
        ],
        [
         "-0.950975487743872",
         "0.924412801867642",
         "0.02207690007480756",
         "0.10133048803489686"
        ]
       ],
       "shape": {
        "columns": 3,
        "rows": 2000
       }
      },
      "text/html": [
       "<div>\n",
       "<style scoped>\n",
       "    .dataframe tbody tr th:only-of-type {\n",
       "        vertical-align: middle;\n",
       "    }\n",
       "\n",
       "    .dataframe tbody tr th {\n",
       "        vertical-align: top;\n",
       "    }\n",
       "\n",
       "    .dataframe thead th {\n",
       "        text-align: right;\n",
       "    }\n",
       "</style>\n",
       "<table border=\"1\" class=\"dataframe\">\n",
       "  <thead>\n",
       "    <tr style=\"text-align: right;\">\n",
       "      <th></th>\n",
       "      <th>0</th>\n",
       "      <th>1</th>\n",
       "      <th>2</th>\n",
       "    </tr>\n",
       "  </thead>\n",
       "  <tbody>\n",
       "    <tr>\n",
       "      <th>-1.000000</th>\n",
       "      <td>0.190685</td>\n",
       "      <td>0.490553</td>\n",
       "      <td>0.248958</td>\n",
       "    </tr>\n",
       "    <tr>\n",
       "      <th>-0.998999</th>\n",
       "      <td>0.078999</td>\n",
       "      <td>0.689063</td>\n",
       "      <td>0.40577</td>\n",
       "    </tr>\n",
       "    <tr>\n",
       "      <th>-0.997999</th>\n",
       "      <td>0.094847</td>\n",
       "      <td>0.788747</td>\n",
       "      <td>0.966084</td>\n",
       "    </tr>\n",
       "    <tr>\n",
       "      <th>-0.996998</th>\n",
       "      <td>0.287616</td>\n",
       "      <td>0.804512</td>\n",
       "      <td>0.846309</td>\n",
       "    </tr>\n",
       "    <tr>\n",
       "      <th>-0.995998</th>\n",
       "      <td>0.723807</td>\n",
       "      <td>0.996373</td>\n",
       "      <td>0.850087</td>\n",
       "    </tr>\n",
       "    <tr>\n",
       "      <th>...</th>\n",
       "      <td>...</td>\n",
       "      <td>...</td>\n",
       "      <td>...</td>\n",
       "    </tr>\n",
       "    <tr>\n",
       "      <th>0.995998</th>\n",
       "      <td>0.023565</td>\n",
       "      <td>0.136486</td>\n",
       "      <td>0.120244</td>\n",
       "    </tr>\n",
       "    <tr>\n",
       "      <th>0.996998</th>\n",
       "      <td>0.298943</td>\n",
       "      <td>0.844828</td>\n",
       "      <td>0.227437</td>\n",
       "    </tr>\n",
       "    <tr>\n",
       "      <th>0.997999</th>\n",
       "      <td>0.514455</td>\n",
       "      <td>0.847778</td>\n",
       "      <td>0.782702</td>\n",
       "    </tr>\n",
       "    <tr>\n",
       "      <th>0.998999</th>\n",
       "      <td>0.975054</td>\n",
       "      <td>0.795339</td>\n",
       "      <td>0.898294</td>\n",
       "    </tr>\n",
       "    <tr>\n",
       "      <th>1.000000</th>\n",
       "      <td>0.122129</td>\n",
       "      <td>0.228904</td>\n",
       "      <td>0.168518</td>\n",
       "    </tr>\n",
       "  </tbody>\n",
       "</table>\n",
       "<p>2000 rows × 3 columns</p>\n",
       "</div>"
      ],
      "text/plain": [
       "                  0         1         2\n",
       "-1.000000  0.190685  0.490553  0.248958\n",
       "-0.998999  0.078999  0.689063   0.40577\n",
       "-0.997999  0.094847  0.788747  0.966084\n",
       "-0.996998  0.287616  0.804512  0.846309\n",
       "-0.995998  0.723807  0.996373  0.850087\n",
       "...             ...       ...       ...\n",
       " 0.995998  0.023565  0.136486  0.120244\n",
       " 0.996998  0.298943  0.844828  0.227437\n",
       " 0.997999  0.514455  0.847778  0.782702\n",
       " 0.998999  0.975054  0.795339  0.898294\n",
       " 1.000000  0.122129  0.228904  0.168518\n",
       "\n",
       "[2000 rows x 3 columns]"
      ]
     },
     "metadata": {},
     "output_type": "display_data"
    }
   ],
   "source": [
    "results_df, psths = load_results(save_path)\n",
    "\n",
    "display(results_df)\n",
    "display(psths)"
   ]
  },
  {
   "cell_type": "markdown",
   "metadata": {},
   "source": [
    "---"
   ]
  },
  {
   "cell_type": "markdown",
   "metadata": {},
   "source": [
    "## Section 4: HDF5 Format and Partial Loading\n",
    "\n",
    "The batch analysis system now supports HDF5 format, which offers several advantages over pickle:\n",
    "\n",
    "* Better performance for large datasets\n",
    "* Selective loading of specific data components\n",
    "* Cross-platform compatibility\n",
    "* More efficient storage for numerical data"
   ]
  },
  {
   "cell_type": "markdown",
   "metadata": {},
   "source": [
    "### Run analysis with HDF5 format\n"
   ]
  },
  {
   "cell_type": "code",
   "execution_count": 10,
   "metadata": {},
   "outputs": [
    {
     "name": "stderr",
     "output_type": "stream",
     "text": [
      "100%|██████████| 3/3 [00:00<00:00, 380.03it/s]"
     ]
    },
    {
     "name": "stdout",
     "output_type": "stream",
     "text": [
      "U:\\data\\hpc_ctx_project\\HP01\\day_1_20240227\n",
      "U:\\data\\hpc_ctx_project\\HP01\\day_2_20240228\n",
      "U:\\data\\hpc_ctx_project\\HP01\\day_3_20240229\n"
     ]
    },
    {
     "name": "stderr",
     "output_type": "stream",
     "text": [
      "\n"
     ]
    }
   ],
   "source": [
    "# Use HDF5 format for better performance and selective loading\n",
    "save_path_hdf5 = r\"Z:\\home\\ryanh\\projects\\hpc_ctx\\toy_analysis\\toy_analysis_v3_hdf5\"\n",
    "\n",
    "batch_analysis.run(\n",
    "    sessions,\n",
    "    save_path_hdf5,\n",
    "    toy_analysis_2,\n",
    "    parallel=False,\n",
    "    verbose=True,\n",
    "    format_type=\"hdf5\",  # Use HDF5 format\n",
    ")"
   ]
  },
  {
   "cell_type": "markdown",
   "metadata": {},
   "source": [
    "### Partial loading with load_specific_data()\n"
   ]
  },
  {
   "cell_type": "code",
   "execution_count": 11,
   "metadata": {},
   "outputs": [
    {
     "name": "stdout",
     "output_type": "stream",
     "text": [
      "Loading from: Z:\\home\\ryanh\\projects\\hpc_ctx\\toy_analysis\\toy_analysis_v3_hdf5\\U---___data___hpc_ctx_project___HP01___day_1_20240227.h5\n",
      "Results DataFrame only:\n"
     ]
    },
    {
     "data": {
      "application/vnd.microsoft.datawrangler.viewer.v0+json": {
       "columns": [
        {
         "name": "index",
         "rawType": "int64",
         "type": "integer"
        },
        {
         "name": "basepath",
         "rawType": "object",
         "type": "string"
        },
        {
         "name": "paramater_1",
         "rawType": "int64",
         "type": "integer"
        },
        {
         "name": "paramater_2",
         "rawType": "int64",
         "type": "integer"
        },
        {
         "name": "random_number",
         "rawType": "int64",
         "type": "integer"
        }
       ],
       "ref": "2532f4da-d175-4d64-b474-165cacddf1ca",
       "rows": [
        [
         "0",
         "U:\\data\\hpc_ctx_project\\HP01\\day_1_20240227",
         "1",
         "2",
         "42"
        ]
       ],
       "shape": {
        "columns": 4,
        "rows": 1
       }
      },
      "text/html": [
       "<div>\n",
       "<style scoped>\n",
       "    .dataframe tbody tr th:only-of-type {\n",
       "        vertical-align: middle;\n",
       "    }\n",
       "\n",
       "    .dataframe tbody tr th {\n",
       "        vertical-align: top;\n",
       "    }\n",
       "\n",
       "    .dataframe thead th {\n",
       "        text-align: right;\n",
       "    }\n",
       "</style>\n",
       "<table border=\"1\" class=\"dataframe\">\n",
       "  <thead>\n",
       "    <tr style=\"text-align: right;\">\n",
       "      <th></th>\n",
       "      <th>basepath</th>\n",
       "      <th>paramater_1</th>\n",
       "      <th>paramater_2</th>\n",
       "      <th>random_number</th>\n",
       "    </tr>\n",
       "  </thead>\n",
       "  <tbody>\n",
       "    <tr>\n",
       "      <th>0</th>\n",
       "      <td>U:\\data\\hpc_ctx_project\\HP01\\day_1_20240227</td>\n",
       "      <td>1</td>\n",
       "      <td>2</td>\n",
       "      <td>42</td>\n",
       "    </tr>\n",
       "  </tbody>\n",
       "</table>\n",
       "</div>"
      ],
      "text/plain": [
       "                                      basepath  paramater_1  paramater_2  \\\n",
       "0  U:\\data\\hpc_ctx_project\\HP01\\day_1_20240227            1            2   \n",
       "\n",
       "   random_number  \n",
       "0             42  "
      ]
     },
     "metadata": {},
     "output_type": "display_data"
    },
    {
     "name": "stdout",
     "output_type": "stream",
     "text": [
      "\n",
      "PSTH data only:\n"
     ]
    },
    {
     "data": {
      "application/vnd.microsoft.datawrangler.viewer.v0+json": {
       "columns": [
        {
         "name": "index",
         "rawType": "float64",
         "type": "float"
        },
        {
         "name": "0",
         "rawType": "object",
         "type": "string"
        }
       ],
       "ref": "ebe461a2-2efd-474f-8345-99d7e1f68183",
       "rows": [
        [
         "-1.0",
         "0.09495039896565927"
        ],
        [
         "-0.9989994997498749",
         "0.025459594964744592"
        ],
        [
         "-0.9979989994997499",
         "0.7897323765370252"
        ],
        [
         "-0.9969984992496248",
         "0.3043882313446068"
        ],
        [
         "-0.9959979989994997",
         "0.08990904706906877"
        ]
       ],
       "shape": {
        "columns": 1,
        "rows": 5
       }
      },
      "text/html": [
       "<div>\n",
       "<style scoped>\n",
       "    .dataframe tbody tr th:only-of-type {\n",
       "        vertical-align: middle;\n",
       "    }\n",
       "\n",
       "    .dataframe tbody tr th {\n",
       "        vertical-align: top;\n",
       "    }\n",
       "\n",
       "    .dataframe thead th {\n",
       "        text-align: right;\n",
       "    }\n",
       "</style>\n",
       "<table border=\"1\" class=\"dataframe\">\n",
       "  <thead>\n",
       "    <tr style=\"text-align: right;\">\n",
       "      <th></th>\n",
       "      <th>0</th>\n",
       "    </tr>\n",
       "  </thead>\n",
       "  <tbody>\n",
       "    <tr>\n",
       "      <th>-1.000000</th>\n",
       "      <td>0.09495039896565927</td>\n",
       "    </tr>\n",
       "    <tr>\n",
       "      <th>-0.998999</th>\n",
       "      <td>0.025459594964744592</td>\n",
       "    </tr>\n",
       "    <tr>\n",
       "      <th>-0.997999</th>\n",
       "      <td>0.7897323765370252</td>\n",
       "    </tr>\n",
       "    <tr>\n",
       "      <th>-0.996998</th>\n",
       "      <td>0.3043882313446068</td>\n",
       "    </tr>\n",
       "    <tr>\n",
       "      <th>-0.995998</th>\n",
       "      <td>0.08990904706906877</td>\n",
       "    </tr>\n",
       "  </tbody>\n",
       "</table>\n",
       "</div>"
      ],
      "text/plain": [
       "                              0\n",
       "-1.000000   0.09495039896565927\n",
       "-0.998999  0.025459594964744592\n",
       "-0.997999    0.7897323765370252\n",
       "-0.996998    0.3043882313446068\n",
       "-0.995998   0.08990904706906877"
      ]
     },
     "metadata": {},
     "output_type": "display_data"
    },
    {
     "name": "stdout",
     "output_type": "stream",
     "text": [
      "\n",
      "All data keys: ['psth', 'results_df']\n"
     ]
    }
   ],
   "source": [
    "# Get a specific file path\n",
    "session_file = batch_analysis.encode_file_path(\n",
    "    sessions.iloc[0][\"basepath\"], save_path_hdf5, format_type=\"hdf5\"\n",
    ")\n",
    "\n",
    "print(f\"Loading from: {session_file}\")\n",
    "\n",
    "# Load only the results DataFrame\n",
    "results_only = batch_analysis.load_specific_data(session_file, key=\"results_df\")\n",
    "print(\"Results DataFrame only:\")\n",
    "display(results_only)\n",
    "\n",
    "# Load only the PSTH data\n",
    "psth_only = batch_analysis.load_specific_data(session_file, key=\"psth\")\n",
    "print(\"\\nPSTH data only:\")\n",
    "display(psth_only.head())\n",
    "\n",
    "# Load everything (equivalent to not specifying a key)\n",
    "all_data = batch_analysis.load_specific_data(session_file)\n",
    "print(f\"\\nAll data keys: {list(all_data.keys())}\")"
   ]
  },
  {
   "cell_type": "markdown",
   "metadata": {},
   "source": [
    "### When to use HDF5 vs Pickle\n",
    "#### Use HDF5 when:\n",
    "\n",
    "* Working with large datasets (>100MB per file)\n",
    "* You need to load only specific components\n",
    "* Cross-platform compatibility is important\n",
    "* You have mostly numerical data (pandas DataFrames, numpy arrays)\n",
    "\n",
    "#### Use Pickle when:\n",
    "\n",
    "* Working with small datasets\n",
    "* You have complex Python objects that don't translate well to HDF5\n",
    "* You always need to load the complete dataset\n",
    "* Simplicity is preferred\n",
    "\n",
    "This new functionality maintains backward compatibility while providing more efficient options for large-scale analyses."
   ]
  }
 ],
 "metadata": {
  "kernelspec": {
   "display_name": "hpc_ctx_py_3_11",
   "language": "python",
   "name": "python3"
  },
  "language_info": {
   "codemirror_mode": {
    "name": "ipython",
    "version": 3
   },
   "file_extension": ".py",
   "mimetype": "text/x-python",
   "name": "python",
   "nbconvert_exporter": "python",
   "pygments_lexer": "ipython3",
   "version": "3.11.0"
  }
 },
 "nbformat": 4,
 "nbformat_minor": 2
}
